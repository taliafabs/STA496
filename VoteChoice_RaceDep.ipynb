{
  "nbformat": 4,
  "nbformat_minor": 0,
  "metadata": {
    "colab": {
      "provenance": [],
      "authorship_tag": "ABX9TyPJDJaij98TzN5QPzG2x1lL",
      "include_colab_link": true
    },
    "kernelspec": {
      "name": "python3",
      "display_name": "Python 3"
    },
    "language_info": {
      "name": "python"
    }
  },
  "cells": [
    {
      "cell_type": "markdown",
      "metadata": {
        "id": "view-in-github",
        "colab_type": "text"
      },
      "source": [
        "<a href=\"https://colab.research.google.com/github/taliafabs/sta496/blob/main/VoteChoice_RaceDep.ipynb\" target=\"_parent\"><img src=\"https://colab.research.google.com/assets/colab-badge.svg\" alt=\"Open In Colab\"/></a>"
      ]
    },
    {
      "cell_type": "markdown",
      "source": [
        "# Building Logistic Regression Vote Choice Models Using Recent U.S. Presidential Election Data\n"
      ],
      "metadata": {
        "id": "xx7n613DyM00"
      }
    },
    {
      "cell_type": "markdown",
      "source": [
        "## Introduction"
      ],
      "metadata": {
        "id": "2SHxCjSu5IFm"
      }
    },
    {
      "cell_type": "markdown",
      "source": [
        "## Data\n",
        "\n",
        "The datasets used for this project are the 2020 and 2024 CES survey datasets, obtained from Harvard Dataverse. They can be found at the following links:\n",
        "* 2024:\n",
        "* 2020:"
      ],
      "metadata": {
        "id": "cFAT6jpE3b9g"
      }
    },
    {
      "cell_type": "markdown",
      "source": [
        "### Loading the data"
      ],
      "metadata": {
        "id": "p6hBC6CI5crX"
      }
    },
    {
      "cell_type": "code",
      "source": [
        "# Workplace setup\n",
        "import pandas as pd\n",
        "import numpy as np\n",
        "import matplotlib.pyplot as plt\n",
        "import seaborn as sns\n",
        "import statsmodels.api as sm\n",
        "import statsmodels.formula.api as smf\n",
        "from statsmodels.stats.outliers_influence import variance_inflation_factor\n",
        "from sklearn.linear_model import LogisticRegression\n",
        "from sklearn.model_selection import train_test_split\n",
        "from sklearn.metrics import classification_report, accuracy_score, confusion_matrix\n",
        "from sklearn.preprocessing import OneHotEncoder, PolynomialFeatures\n",
        "from sklearn.compose import ColumnTransformer\n",
        "from sklearn.pipeline import Pipeline\n",
        "import pymc as pm"
      ],
      "metadata": {
        "id": "l4h90tj53dYx"
      },
      "execution_count": 1,
      "outputs": []
    },
    {
      "cell_type": "code",
      "source": [
        "# loading the data\n",
        "from google.colab import drive\n",
        "drive.mount('/content/drive')\n",
        "\n",
        "# 2024\n",
        "ces24 = pd.read_stata(\"/content/drive/MyDrive/STA496/Datasets/CES24_Common.dta\")\n",
        "\n",
        "# 2020\n",
        "ces20 = pd.read_stata(\"/content/drive/MyDrive/STA496/Datasets/CES20_Common_OUTPUT_vv.dta\")"
      ],
      "metadata": {
        "colab": {
          "base_uri": "https://localhost:8080/"
        },
        "id": "YB7Ojs1f3rUm",
        "outputId": "74ea3bc1-2678-45b7-bab5-9ad100e6058f"
      },
      "execution_count": 2,
      "outputs": [
        {
          "output_type": "stream",
          "name": "stdout",
          "text": [
            "Mounted at /content/drive\n"
          ]
        }
      ]
    },
    {
      "cell_type": "code",
      "source": [
        "# data preparation\n",
        "ces24_subset = ces24[['gender4', 'race', 'hispanic', 'educ', 'marstat', 'inputstate', 'region', 'birthyr',\n",
        "                  'ownhome', 'urbancity', 'industry',\n",
        "                  'religpew', 'pew_religimp', 'pew_churatd', 'pew_prayer',\n",
        "                  'CC24_361b', 'CC24_363', 'CC24_364a', 'CC24_364b', 'presvote20post', 'pid3', 'pid7'\n",
        "                  ]]\n",
        "\n",
        "ces20_subset = ces20[['gender', 'race', 'hispanic', 'educ', 'marstat', 'inputstate', 'region', 'birthyr',\n",
        "                      'ownhome', 'urbancity', 'industryclass',\n",
        "                      'religpew', 'pew_religimp', 'pew_churatd', 'pew_prayer',\n",
        "                      'votereg', 'votereg_f','CC20_364a', 'CC20_364b', 'presvote16post', 'pid3', 'pid7']]\n",
        "\n",
        "# only include trump and biden/harris\n",
        "ces24_subset = ces24_subset[\n",
        "    (ces24_subset['CC24_364a'] == \"Kamala Harris (Democrat)\") |\n",
        "    (ces24_subset['CC24_364a'] == \"Donald Trump (Republican)\")\n",
        "]\n",
        "\n",
        "ces20_subset = ces20_subset[\n",
        "    (ces20_subset['CC20_364a'] == \"Joe Biden (Democrat)\") |\n",
        "    (ces20_subset['CC20_364a'] == \"Donald Trump (Republican)\")\n",
        "]\n",
        "\n",
        "# create vote_trump binary variable\n",
        "ces24_subset['vote_trump'] = np.where(ces24_subset['CC24_364a'] == 'Donald Trump (Republican)', 1, 0)\n",
        "ces20_subset['vote_trump'] = np.where(ces20_subset['CC20_364a'] == 'Donald Trump (Republican)', 1, 0)\n",
        "\n",
        "# columns\n",
        "ces24_subset['age'] = 2024 - ces24_subset['birthyr']\n",
        "\n",
        "ces24_subset['age_bracket'] = pd.cut(\n",
        "    ces24_subset['age'],\n",
        "    bins=[17, 24, 34, 44, 54, 64, 74, 100],\n",
        "    labels=[\n",
        "        '18–24', '25–34', '35–44', '45–54', '55–64', '65–74', '75+'\n",
        "    ]\n",
        ")\n",
        "\n",
        "ces24_subset = ces24_subset[[\n",
        "    'vote_trump',\n",
        "    'age_bracket',\n",
        "    'gender4',\n",
        "    'race',\n",
        "    # 'hispanic',\n",
        "    'educ',\n",
        "    # 'marstat',\n",
        "    # 'inputstate',\n",
        "    'region',\n",
        "    'urbancity',\n",
        "    'religpew',\n",
        "    # 'pew_religimp',\n",
        "    # 'pew_churatd',\n",
        "    'pid3'\n",
        "]]\n",
        "\n",
        "# 2020\n",
        "ces20_subset['age'] = 2020 - ces20_subset['birthyr']\n",
        "\n",
        "ces20_subset['age_bracket'] = pd.cut(\n",
        "    ces20_subset['age'],\n",
        "    bins=[17, 24, 34, 44, 54, 64, 74, 100],\n",
        "    labels=[\n",
        "        '18–24', '25–34', '35–44', '45–54', '55–64', '65–74', '75+'\n",
        "    ]\n",
        ")\n",
        "\n",
        "ces20_subset = ces20_subset[[\n",
        "    'vote_trump',\n",
        "    'age_bracket',\n",
        "    'gender',\n",
        "    'race',\n",
        "    # 'hispanic',\n",
        "    'educ',\n",
        "    # 'marstat',\n",
        "    # 'inputstate',\n",
        "    'region',\n",
        "    'urbancity',\n",
        "    'religpew',\n",
        "    # 'pew_religimp',\n",
        "    # 'pew_churatd',\n",
        "    'pid3'\n",
        "]]\n",
        "\n",
        "# categorical predictors\n",
        "predictors24 = ces24_subset.columns.drop('vote_trump')\n",
        "ces24_subset[predictors24] = ces24_subset[predictors24].astype('category')\n",
        "predictors20 = ces20_subset.columns.drop('vote_trump')\n",
        "ces20_subset[predictors20] = ces20_subset[predictors20].astype('category')\n",
        "\n",
        "ces24_subset.dropna(inplace=True)\n",
        "ces20_subset.dropna(inplace=True)"
      ],
      "metadata": {
        "colab": {
          "base_uri": "https://localhost:8080/"
        },
        "id": "vUGosySs4U6d",
        "outputId": "24ed674a-af36-4d64-f19d-c237b0b416b9"
      },
      "execution_count": null,
      "outputs": [
        {
          "output_type": "stream",
          "name": "stderr",
          "text": [
            "/tmp/ipython-input-95-404785283.py:26: SettingWithCopyWarning: \n",
            "A value is trying to be set on a copy of a slice from a DataFrame.\n",
            "Try using .loc[row_indexer,col_indexer] = value instead\n",
            "\n",
            "See the caveats in the documentation: https://pandas.pydata.org/pandas-docs/stable/user_guide/indexing.html#returning-a-view-versus-a-copy\n",
            "  ces20_subset['vote_trump'] = np.where(ces20_subset['CC20_364a'] == 'Donald Trump (Republican)', 1, 0)\n",
            "/tmp/ipython-input-95-404785283.py:57: SettingWithCopyWarning: \n",
            "A value is trying to be set on a copy of a slice from a DataFrame.\n",
            "Try using .loc[row_indexer,col_indexer] = value instead\n",
            "\n",
            "See the caveats in the documentation: https://pandas.pydata.org/pandas-docs/stable/user_guide/indexing.html#returning-a-view-versus-a-copy\n",
            "  ces20_subset['age'] = 2020 - ces20_subset['birthyr']\n",
            "/tmp/ipython-input-95-404785283.py:59: SettingWithCopyWarning: \n",
            "A value is trying to be set on a copy of a slice from a DataFrame.\n",
            "Try using .loc[row_indexer,col_indexer] = value instead\n",
            "\n",
            "See the caveats in the documentation: https://pandas.pydata.org/pandas-docs/stable/user_guide/indexing.html#returning-a-view-versus-a-copy\n",
            "  ces20_subset['age_bracket'] = pd.cut(\n",
            "/tmp/ipython-input-95-404785283.py:86: SettingWithCopyWarning: \n",
            "A value is trying to be set on a copy of a slice from a DataFrame.\n",
            "Try using .loc[row_indexer,col_indexer] = value instead\n",
            "\n",
            "See the caveats in the documentation: https://pandas.pydata.org/pandas-docs/stable/user_guide/indexing.html#returning-a-view-versus-a-copy\n",
            "  ces24_subset[predictors24] = ces24_subset[predictors24].astype('category')\n",
            "/tmp/ipython-input-95-404785283.py:90: SettingWithCopyWarning: \n",
            "A value is trying to be set on a copy of a slice from a DataFrame\n",
            "\n",
            "See the caveats in the documentation: https://pandas.pydata.org/pandas-docs/stable/user_guide/indexing.html#returning-a-view-versus-a-copy\n",
            "  ces24_subset.dropna(inplace=True)\n"
          ]
        }
      ]
    },
    {
      "cell_type": "code",
      "source": [
        "# Dummy variables and interaction terms\n",
        "# X_24 = ces24_subset.drop(columns=['vote_trump'])\n",
        "# y_24 = ces24_subset['vote_trump']\n",
        "# categorical_features = X_24.select_dtypes(include=['category']).columns\n",
        "\n",
        "race_dummies_24 = pd.get_dummies(ces24_subset['race'], prefix='race', drop_first=True)\n",
        "gender_dummies_24 = pd.get_dummies(ces24_subset['gender4'], prefix='gender', drop_first=True)\n",
        "education_dummies_24 = pd.get_dummies(ces24_subset['educ'], prefix='educ', drop_first=True)\n",
        "\n",
        "race_dummies_20 = pd.get_dummies(ces20_subset['race'], prefix='race', drop_first=True)\n",
        "gender_dummies_20 = pd.get_dummies(ces20_subset['gender'], prefix='gender', drop_first=True)\n",
        "education_dummies_20 = pd.get_dummies(ces20_subset['educ'], prefix='educ', drop_first=True)\n",
        "\n",
        "ces24_subset_ = pd.get_dummies(ces24_subset, drop_first=True)\n",
        "ces20_subset_ = pd.get_dummies(ces20_subset, drop_first=True)\n",
        "\n",
        "interaction_terms_24 = pd.DataFrame()\n",
        "interaction_terms_20 = pd.DataFrame()\n",
        "\n",
        "# 2024 interaction dummies\n",
        "for col1 in race_dummies_24.columns: # go thru every race dummy\n",
        "    for col2 in gender_dummies_24.columns: # race * gender\n",
        "        interaction_terms_24[f'{col1}_{col2}'] = race_dummies_24[col1] * gender_dummies_24[col2]\n",
        "    for col3 in education_dummies_24.columns: # race * education\n",
        "        interaction_terms_24[f'{col1}_{col3}'] = race_dummies_24[col1] * education_dummies_24[col3]\n",
        "\n",
        "# 2020 interaction dummies\n",
        "for col1 in race_dummies_20.columns: # go through every race dummy\n",
        "    for col2 in gender_dummies_20.columns: # race * gender\n",
        "        interaction_terms_20[f'{col1}_{col2}'] = race_dummies_20[col1] * gender_dummies_20[col2]\n",
        "    for col3 in education_dummies_20.columns: # race * education\n",
        "        interaction_terms_20[f'{col1}_{col3}'] = race_dummies_20[col1] * education_dummies_20[col3]\n",
        "# combine\n",
        "df_24_model = pd.concat([\n",
        "    ces24_subset_.drop(columns=['race', 'gender', 'educ'], errors='ignore'),  # optional\n",
        "    race_dummies_24,\n",
        "    gender_dummies_24,\n",
        "    education_dummies_24,\n",
        "    interaction_terms_24\n",
        "], axis=1)\n",
        "\n",
        "df_20_model = pd.concat([\n",
        "    ces20_subset_.drop(columns=['race', 'gender', 'educ'], errors='ignore'),  # optional\n",
        "    race_dummies_20,\n",
        "    gender_dummies_20,\n",
        "    education_dummies_20,\n",
        "    interaction_terms_20\n",
        "], axis=1)"
      ],
      "metadata": {
        "id": "-uZNM_fgKd3O"
      },
      "execution_count": null,
      "outputs": []
    },
    {
      "cell_type": "code",
      "source": [
        "# list(df_24_model.columns)"
      ],
      "metadata": {
        "id": "pz2XZx3JQ19j"
      },
      "execution_count": null,
      "outputs": []
    },
    {
      "cell_type": "markdown",
      "source": [
        "## Machine Learning (ML) Approach"
      ],
      "metadata": {
        "id": "2VQzwe5G4xJm"
      }
    },
    {
      "cell_type": "markdown",
      "source": [
        "### Setup"
      ],
      "metadata": {
        "id": "8YP1UKV65PdF"
      }
    },
    {
      "cell_type": "markdown",
      "source": [
        "### Models\n",
        "\n",
        "I will evaluate the performance of the following logistic regression models on the CES 2020 and 2024 datasets:"
      ],
      "metadata": {
        "id": "cEegn01u48Be"
      }
    },
    {
      "cell_type": "code",
      "source": [
        "# full model\n",
        "X_24 = df_24_model.drop(columns=['vote_trump'])\n",
        "y_24 = df_24_model['vote_trump']\n",
        "\n",
        "# train test split\n",
        "X_train_24, X_test_24, y_train_24, y_test_24 = train_test_split(X_24, y_24, test_size=0.25, random_state=42)\n",
        "\n",
        "# train\n",
        "model0_ml = LogisticRegression()\n",
        "model0_ml.fit(X_train_24, y_train_24)\n",
        "\n",
        "# predict\n",
        "y_pred_24 = model0_ml.predict(X_test_24)\n",
        "\n",
        "# evaluate\n",
        "print(classification_report(y_test_24, y_pred_24))"
      ],
      "metadata": {
        "colab": {
          "base_uri": "https://localhost:8080/"
        },
        "id": "GgNvPt_0O7j5",
        "outputId": "bfe78a8d-835d-460b-a379-04aab1b67496"
      },
      "execution_count": null,
      "outputs": [
        {
          "output_type": "stream",
          "name": "stdout",
          "text": [
            "              precision    recall  f1-score   support\n",
            "\n",
            "           0       0.91      0.94      0.93      1609\n",
            "           1       0.85      0.79      0.82       703\n",
            "\n",
            "    accuracy                           0.89      2312\n",
            "   macro avg       0.88      0.87      0.87      2312\n",
            "weighted avg       0.89      0.89      0.89      2312\n",
            "\n"
          ]
        }
      ]
    },
    {
      "cell_type": "code",
      "source": [
        "# reduced model (remove race main effect)\n",
        "cols_to_drop = [\n",
        "    \"vote_trump\"\n",
        "    \"race_Black\",\n",
        "    \"race_Hispanic\",\n",
        "    \"race_Asian\",\n",
        "    \"race_Native American\",\n",
        "    \"race_Two or more races\",\n",
        "    \"race_Other\",\n",
        "    \"race_Middle Eastern\"\n",
        "]\n",
        "\n",
        "X_24_reduced1 = df_24_model.drop(columns=cols_to_drop, errors='ignore')\n",
        "y_24_reduced1 = df_24_model['vote_trump']\n",
        "\n",
        "# train\n",
        "X_train_24_reduced1, X_test_24_reduced1, y_train_24_reduced1, y_test_24_reduced1 = train_test_split(X_24_reduced1, y_24_reduced1, test_size=0.25, random_state=42)\n",
        "model1_ml = LogisticRegression()\n",
        "model1_ml.fit(X_train_24_reduced1, y_train_24_reduced1)\n",
        "\n",
        "# predict\n",
        "y_pred_24_reduced1 = model1_ml.predict(X_test_24_reduced1)\n",
        "\n",
        "# evaluate\n",
        "print(classification_report(y_test_24_reduced1, y_pred_24_reduced1))\n"
      ],
      "metadata": {
        "colab": {
          "base_uri": "https://localhost:8080/"
        },
        "id": "aRaQMex5Ppld",
        "outputId": "5b8e7d2c-27ef-4960-dae8-983a8567fc92"
      },
      "execution_count": null,
      "outputs": [
        {
          "output_type": "stream",
          "name": "stdout",
          "text": [
            "              precision    recall  f1-score   support\n",
            "\n",
            "           0       1.00      1.00      1.00      1609\n",
            "           1       1.00      1.00      1.00       703\n",
            "\n",
            "    accuracy                           1.00      2312\n",
            "   macro avg       1.00      1.00      1.00      2312\n",
            "weighted avg       1.00      1.00      1.00      2312\n",
            "\n"
          ]
        }
      ]
    },
    {
      "cell_type": "code",
      "source": [
        "# remove race interactions, but keep race main effect"
      ],
      "metadata": {
        "id": "pL7GhzNTJHyU"
      },
      "execution_count": null,
      "outputs": []
    },
    {
      "cell_type": "code",
      "source": [
        "# 2020\n",
        "X_20 = df_20_model.drop(columns=['vote_trump'])\n",
        "y_20 = df_20_model['vote_trump']\n",
        "\n",
        "# train test split\n",
        "X_train_20, X_test_20, y_train_20, y_test_20 = train_test_split(X_20, y_20, test_size=0.25, random_state=42)\n",
        "model0_ml = LogisticRegression()\n",
        "model0_ml.fit(X_train_20, y_train_20)\n",
        "\n",
        "# predict\n",
        "y_pred_20 = model0_ml.predict(X_test_20)\n",
        "\n",
        "# report accuracy\n",
        "print(classification_report(y_test_20, y_pred_20))"
      ],
      "metadata": {
        "id": "iVg4Ve6wMOjm"
      },
      "execution_count": null,
      "outputs": []
    },
    {
      "cell_type": "markdown",
      "source": [
        "### Results"
      ],
      "metadata": {
        "id": "ywDXRHGb492w"
      }
    },
    {
      "cell_type": "markdown",
      "source": [
        "## Frequentist Approach"
      ],
      "metadata": {
        "id": "YtDfB_A742M8"
      }
    },
    {
      "cell_type": "markdown",
      "source": [
        "### Setup\n",
        "Likelihood ratio test will compare nested logistic GLMs to determine whether the more complex model provides a significantly better explanation of the data than the simpler model.\n",
        "\n",
        "Complex model:\n",
        "\n",
        "\\begin{align*}\n",
        "\\frac{p(\\text{vote_trump})}{1 - p(\\text{(vote_trump})} = \\beta_0 + \\beta_1 \\cdot \\text{race} + \\beta_2 \\cdot \\text{gender} + \\beta_3 \\cdot \\text{educ} + \\beta_4 \\cdot \\text{region} + \\beta_5 \\cdot \\text{urbancity} + \\beta_6 \\cdot \\text{religion} + \\beta_7 \\cdot \\text{party_id} + \\beta_8 \\cdot (\\text{race} \\times \\text{gender}) + \\beta_9 \\cdot (\\text{race} \\times \\text{educ})\n",
        "\\end{align*}\n",
        "\n",
        "Reduced models:\n",
        "\n",
        "remove race interactions\n",
        "\\begin{align*}\n",
        "\\frac{p(\\text{vote_trump})}{1 - p(\\text{(vote_trump})} = \\beta_0 + \\beta_1 \\cdot \\text{race} + \\beta_2 \\cdot \\text{gender} + \\beta_3 \\cdot \\text{educ} + \\beta_4 \\cdot \\text{region} + \\beta_5 \\cdot \\text{urbancity} + \\beta_6 \\cdot \\text{religion} + \\beta_7 \\cdot \\text{party_id}\n",
        "\\end{align*}\n",
        "\n",
        "remove race main effect and interactions\n",
        "\\begin{align*}\n",
        "\\frac{p(\\text{vote_trump})}{1 - p(\\text{(vote_trump})} = \\beta_0 + \\beta_1 \\cdot \\text{race} + \\beta_2 \\cdot \\text{gender} + \\beta_3 \\cdot \\text{educ} + \\beta_4 \\cdot \\text{region} + \\beta_5 \\cdot \\text{urbancity} + \\beta_6 \\cdot \\text{religion} + \\beta_7 \\cdot \\text{party_id}\n",
        "\\end{align*}"
      ],
      "metadata": {
        "id": "erBXWagB5Rsq"
      }
    },
    {
      "cell_type": "markdown",
      "source": [
        "### Models"
      ],
      "metadata": {
        "id": "ng7-a9mm5AYH"
      }
    },
    {
      "cell_type": "markdown",
      "source": [
        "Likelihood ratio test and frequentist model evals\n",
        "Is the race main effect significant?\n",
        "How did the significance of race change between 2020 and 2024?"
      ],
      "metadata": {
        "id": "xYssBAUvI0NP"
      }
    },
    {
      "cell_type": "code",
      "source": [
        "# 2024 include race as main effect with race\n",
        "ces24_model1 = smf.logit(\"vote_trump ~ C(race) + C(gender4) + C(educ) + C(age_bracket) + C(region) + C(urbancity) + C(religpew) + C(pid3)\",\n",
        "                         data=ces24_subset).fit(maxiter=10000)"
      ],
      "metadata": {
        "colab": {
          "base_uri": "https://localhost:8080/"
        },
        "id": "TUSqybKO_v-K",
        "outputId": "94f54ce4-211a-4002-9df3-6b749d75cb03"
      },
      "execution_count": null,
      "outputs": [
        {
          "output_type": "stream",
          "name": "stdout",
          "text": [
            "Optimization terminated successfully.\n",
            "         Current function value: 0.226628\n",
            "         Iterations 9\n"
          ]
        }
      ]
    },
    {
      "cell_type": "code",
      "source": [
        "# remove race from the model\n",
        "ces24_model2 = smf.logit(\"vote_trump ~  C(gender4) + C(educ) + C(age_bracket) + C(region) + C(urbancity) + C(religpew) + C(pid3)\",\n",
        "                         data=ces24_subset).fit(maxiter=10000)"
      ],
      "metadata": {
        "colab": {
          "base_uri": "https://localhost:8080/"
        },
        "id": "AbUeanDuGfTZ",
        "outputId": "ce960932-fcb3-4280-924f-a827595a8f65"
      },
      "execution_count": null,
      "outputs": [
        {
          "output_type": "stream",
          "name": "stdout",
          "text": [
            "Optimization terminated successfully.\n",
            "         Current function value: 0.228656\n",
            "         Iterations 9\n"
          ]
        }
      ]
    },
    {
      "cell_type": "code",
      "source": [
        "# 2020 include race as main effect\n",
        "ces20_model1 = smf.logit(\"vote_trump ~ C(race) + C(gender) + C(educ) + C(age_bracket) + C(region) + C(urbancity) + C(religpew) + C(pid3)\",\n",
        "                         data=ces20_subset).fit(maxiter=10000)"
      ],
      "metadata": {
        "id": "1ijZNSPKIMEc"
      },
      "execution_count": null,
      "outputs": []
    },
    {
      "cell_type": "code",
      "source": [
        "# 2020 drop race main effect\n",
        "ces20_model2 = smf.logit(\"vote_trump ~  C(gender) + C(educ) + C(age_bracket) + C(region) + C(urbancity) + C(religpew) + C(pid3)\",\n",
        "                         data=ces20_subset).fit(maxiter=10000)"
      ],
      "metadata": {
        "id": "mra8niuVISx-"
      },
      "execution_count": null,
      "outputs": []
    },
    {
      "cell_type": "markdown",
      "source": [
        "### Results"
      ],
      "metadata": {
        "id": "HCEH_HXU5ERC"
      }
    },
    {
      "cell_type": "code",
      "source": [
        "# likelihood ratio test (2024)"
      ],
      "metadata": {
        "id": "ZU6HtE1xLhA0"
      },
      "execution_count": null,
      "outputs": []
    },
    {
      "cell_type": "code",
      "source": [
        "print(ces24_model1.summary())"
      ],
      "metadata": {
        "colab": {
          "base_uri": "https://localhost:8080/"
        },
        "id": "PgM4dKRgHNr7",
        "outputId": "c17ea3a4-be30-4aaa-fa44-21b856ee9eb6"
      },
      "execution_count": null,
      "outputs": [
        {
          "output_type": "stream",
          "name": "stdout",
          "text": [
            "                           Logit Regression Results                           \n",
            "==============================================================================\n",
            "Dep. Variable:             vote_trump   No. Observations:                 9242\n",
            "Model:                          Logit   Df Residuals:                     9198\n",
            "Method:                           MLE   Df Model:                           43\n",
            "Date:                Mon, 23 Jun 2025   Pseudo R-squ.:                  0.6336\n",
            "Time:                        00:17:25   Log-Likelihood:                -2094.5\n",
            "converged:                       True   LL-Null:                       -5716.1\n",
            "Covariance Type:            nonrobust   LLR p-value:                     0.000\n",
            "============================================================================================================\n",
            "                                               coef    std err          z      P>|z|      [0.025      0.975]\n",
            "------------------------------------------------------------------------------------------------------------\n",
            "Intercept                                   -3.9217      0.418     -9.379      0.000      -4.741      -3.102\n",
            "C(race)[T.Black]                            -0.8707      0.182     -4.778      0.000      -1.228      -0.514\n",
            "C(race)[T.Hispanic]                         -0.3670      0.181     -2.027      0.043      -0.722      -0.012\n",
            "C(race)[T.Asian]                            -0.2106      0.272     -0.773      0.439      -0.744       0.323\n",
            "C(race)[T.Native American]                   0.4614      0.393      1.174      0.240      -0.309       1.232\n",
            "C(race)[T.Two or more races]                -0.3194      0.226     -1.415      0.157      -0.762       0.123\n",
            "C(race)[T.Other]                             0.5559      0.261      2.129      0.033       0.044       1.068\n",
            "C(race)[T.Middle Eastern]                    0.8934      0.861      1.038      0.299      -0.793       2.580\n",
            "C(gender4)[T.Woman]                         -0.2079      0.084     -2.484      0.013      -0.372      -0.044\n",
            "C(gender4)[T.Non-binary]                    -1.9447      0.901     -2.159      0.031      -3.710      -0.179\n",
            "C(gender4)[T.Other]                         -1.5252      1.112     -1.372      0.170      -3.704       0.653\n",
            "C(educ)[T.High school graduate]             -0.5964      0.337     -1.769      0.077      -1.257       0.064\n",
            "C(educ)[T.Some college]                     -0.7029      0.333     -2.110      0.035      -1.356      -0.050\n",
            "C(educ)[T.2-year]                           -0.9428      0.344     -2.741      0.006      -1.617      -0.269\n",
            "C(educ)[T.4-year]                           -0.9840      0.336     -2.932      0.003      -1.642      -0.326\n",
            "C(educ)[T.Post-grad]                        -1.4287      0.342     -4.178      0.000      -2.099      -0.758\n",
            "C(age_bracket)[T.25–34]                      0.3761      0.220      1.709      0.087      -0.055       0.807\n",
            "C(age_bracket)[T.35–44]                      0.1515      0.208      0.727      0.467      -0.257       0.560\n",
            "C(age_bracket)[T.45–54]                      0.3837      0.199      1.926      0.054      -0.007       0.774\n",
            "C(age_bracket)[T.55–64]                      0.3502      0.185      1.889      0.059      -0.013       0.713\n",
            "C(age_bracket)[T.65–74]                      0.2193      0.185      1.187      0.235      -0.143       0.582\n",
            "C(age_bracket)[T.75+]                        0.3261      0.200      1.628      0.104      -0.067       0.719\n",
            "C(region)[T.Midwest]                         0.2503      0.140      1.786      0.074      -0.024       0.525\n",
            "C(region)[T.South]                           0.7065      0.133      5.316      0.000       0.446       0.967\n",
            "C(region)[T.West]                            0.5923      0.143      4.149      0.000       0.313       0.872\n",
            "C(urbancity)[T.Suburb]                       0.1425      0.108      1.314      0.189      -0.070       0.355\n",
            "C(urbancity)[T.Town]                         0.2544      0.137      1.853      0.064      -0.015       0.524\n",
            "C(urbancity)[T.Rural area]                   0.5240      0.127      4.111      0.000       0.274       0.774\n",
            "C(urbancity)[T.Other]                        0.0115      0.444      0.026      0.979      -0.859       0.882\n",
            "C(religpew)[T.Roman Catholic]                0.1441      0.116      1.239      0.215      -0.084       0.372\n",
            "C(religpew)[T.Mormon]                       -0.8633      0.349     -2.474      0.013      -1.547      -0.179\n",
            "C(religpew)[T.Eastern or Greek Orthodox]     1.5521      0.569      2.727      0.006       0.437       2.668\n",
            "C(religpew)[T.Jewish]                       -0.4712      0.243     -1.937      0.053      -0.948       0.006\n",
            "C(religpew)[T.Muslim]                       -0.1484      0.780     -0.190      0.849      -1.677       1.381\n",
            "C(religpew)[T.Buddhist]                     -0.5194      0.442     -1.174      0.240      -1.387       0.348\n",
            "C(religpew)[T.Hindu]                         0.3262      0.767      0.425      0.671      -1.177       1.829\n",
            "C(religpew)[T.Atheist]                      -2.1840      0.192    -11.403      0.000      -2.559      -1.809\n",
            "C(religpew)[T.Agnostic]                     -1.2439      0.159     -7.802      0.000      -1.556      -0.931\n",
            "C(religpew)[T.Nothing in particular]        -0.7700      0.117     -6.604      0.000      -0.998      -0.541\n",
            "C(religpew)[T.Something else]               -0.5088      0.153     -3.326      0.001      -0.809      -0.209\n",
            "C(pid3)[T.Republican]                        7.2100      0.182     39.511      0.000       6.852       7.568\n",
            "C(pid3)[T.Independent]                       3.8064      0.157     24.284      0.000       3.499       4.114\n",
            "C(pid3)[T.Other]                             4.2788      0.203     21.027      0.000       3.880       4.678\n",
            "C(pid3)[T.Not sure]                          3.9473      0.297     13.309      0.000       3.366       4.529\n",
            "============================================================================================================\n"
          ]
        }
      ]
    },
    {
      "cell_type": "code",
      "source": [
        "print(ces24_model2.summary())"
      ],
      "metadata": {
        "colab": {
          "base_uri": "https://localhost:8080/"
        },
        "id": "uzttzwkzJbPj",
        "outputId": "b43d674e-18e8-47bd-ce9f-cc519fd3be55"
      },
      "execution_count": null,
      "outputs": [
        {
          "output_type": "stream",
          "name": "stdout",
          "text": [
            "                           Logit Regression Results                           \n",
            "==============================================================================\n",
            "Dep. Variable:             vote_trump   No. Observations:                 9242\n",
            "Model:                          Logit   Df Residuals:                     9205\n",
            "Method:                           MLE   Df Model:                           36\n",
            "Date:                Mon, 23 Jun 2025   Pseudo R-squ.:                  0.6303\n",
            "Time:                        00:17:35   Log-Likelihood:                -2113.2\n",
            "converged:                       True   LL-Null:                       -5716.1\n",
            "Covariance Type:            nonrobust   LLR p-value:                     0.000\n",
            "============================================================================================================\n",
            "                                               coef    std err          z      P>|z|      [0.025      0.975]\n",
            "------------------------------------------------------------------------------------------------------------\n",
            "Intercept                                   -4.1760      0.413    -10.119      0.000      -4.985      -3.367\n",
            "C(gender4)[T.Woman]                         -0.2592      0.083     -3.132      0.002      -0.421      -0.097\n",
            "C(gender4)[T.Non-binary]                    -2.0108      0.886     -2.271      0.023      -3.746      -0.275\n",
            "C(gender4)[T.Other]                         -1.5294      1.111     -1.377      0.169      -3.707       0.648\n",
            "C(educ)[T.High school graduate]             -0.5480      0.335     -1.637      0.102      -1.204       0.108\n",
            "C(educ)[T.Some college]                     -0.6843      0.331     -2.066      0.039      -1.334      -0.035\n",
            "C(educ)[T.2-year]                           -0.9158      0.342     -2.678      0.007      -1.586      -0.245\n",
            "C(educ)[T.4-year]                           -0.9578      0.333     -2.874      0.004      -1.611      -0.305\n",
            "C(educ)[T.Post-grad]                        -1.3913      0.340     -4.097      0.000      -2.057      -0.726\n",
            "C(age_bracket)[T.25–34]                      0.3602      0.219      1.648      0.099      -0.068       0.789\n",
            "C(age_bracket)[T.35–44]                      0.1816      0.207      0.879      0.380      -0.224       0.587\n",
            "C(age_bracket)[T.45–54]                      0.4023      0.198      2.035      0.042       0.015       0.790\n",
            "C(age_bracket)[T.55–64]                      0.4008      0.183      2.188      0.029       0.042       0.760\n",
            "C(age_bracket)[T.65–74]                      0.2623      0.183      1.436      0.151      -0.096       0.620\n",
            "C(age_bracket)[T.75+]                        0.3934      0.198      1.988      0.047       0.005       0.781\n",
            "C(region)[T.Midwest]                         0.2636      0.139      1.892      0.059      -0.010       0.537\n",
            "C(region)[T.South]                           0.6639      0.132      5.048      0.000       0.406       0.922\n",
            "C(region)[T.West]                            0.6058      0.141      4.291      0.000       0.329       0.883\n",
            "C(urbancity)[T.Suburb]                       0.2084      0.107      1.947      0.052      -0.001       0.418\n",
            "C(urbancity)[T.Town]                         0.3661      0.135      2.707      0.007       0.101       0.631\n",
            "C(urbancity)[T.Rural area]                   0.6279      0.125      5.003      0.000       0.382       0.874\n",
            "C(urbancity)[T.Other]                        0.1488      0.439      0.339      0.735      -0.712       1.009\n",
            "C(religpew)[T.Roman Catholic]                0.1688      0.114      1.479      0.139      -0.055       0.393\n",
            "C(religpew)[T.Mormon]                       -0.8166      0.348     -2.344      0.019      -1.499      -0.134\n",
            "C(religpew)[T.Eastern or Greek Orthodox]     1.5618      0.570      2.739      0.006       0.444       2.679\n",
            "C(religpew)[T.Jewish]                       -0.2972      0.237     -1.254      0.210      -0.762       0.167\n",
            "C(religpew)[T.Muslim]                       -0.4229      0.764     -0.554      0.580      -1.920       1.074\n",
            "C(religpew)[T.Buddhist]                     -0.4845      0.435     -1.114      0.265      -1.337       0.368\n",
            "C(religpew)[T.Hindu]                         0.2537      0.727      0.349      0.727      -1.170       1.678\n",
            "C(religpew)[T.Atheist]                      -2.1198      0.191    -11.076      0.000      -2.495      -1.745\n",
            "C(religpew)[T.Agnostic]                     -1.1976      0.158     -7.562      0.000      -1.508      -0.887\n",
            "C(religpew)[T.Nothing in particular]        -0.7469      0.116     -6.448      0.000      -0.974      -0.520\n",
            "C(religpew)[T.Something else]               -0.4911      0.151     -3.250      0.001      -0.787      -0.195\n",
            "C(pid3)[T.Republican]                        7.3062      0.182     40.171      0.000       6.950       7.663\n",
            "C(pid3)[T.Independent]                       3.8644      0.157     24.688      0.000       3.558       4.171\n",
            "C(pid3)[T.Other]                             4.3644      0.203     21.542      0.000       3.967       4.761\n",
            "C(pid3)[T.Not sure]                          3.8784      0.294     13.177      0.000       3.302       4.455\n",
            "============================================================================================================\n"
          ]
        }
      ]
    },
    {
      "cell_type": "code",
      "source": [
        "print(ces20_model1.summary())"
      ],
      "metadata": {
        "id": "EKzU2GY0IgpZ"
      },
      "execution_count": null,
      "outputs": []
    },
    {
      "cell_type": "code",
      "source": [
        "print(ces20_model2.summary())"
      ],
      "metadata": {
        "id": "qragUV9mIjQr"
      },
      "execution_count": null,
      "outputs": []
    },
    {
      "cell_type": "code",
      "source": [
        "# likelihood ratio test"
      ],
      "metadata": {
        "id": "zPQk1KjdJf1A"
      },
      "execution_count": null,
      "outputs": []
    }
  ]
}